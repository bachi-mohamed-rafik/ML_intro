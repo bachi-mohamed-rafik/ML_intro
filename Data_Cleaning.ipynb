{
  "nbformat": 4,
  "nbformat_minor": 0,
  "metadata": {
    "colab": {
      "name": "Data Cleaning.ipynb",
      "provenance": [],
      "collapsed_sections": [],
      "authorship_tag": "ABX9TyOZPQbaH9Wu6+HNzjTd3eCH",
      "include_colab_link": true
    },
    "kernelspec": {
      "name": "python3",
      "display_name": "Python 3"
    }
  },
  "cells": [
    {
      "cell_type": "markdown",
      "metadata": {
        "id": "view-in-github",
        "colab_type": "text"
      },
      "source": [
        "<a href=\"https://colab.research.google.com/github/bachi-mohamed-rafik/ML_intro/blob/main/Data_Cleaning.ipynb\" target=\"_parent\"><img src=\"https://colab.research.google.com/assets/colab-badge.svg\" alt=\"Open In Colab\"/></a>"
      ]
    },
    {
      "cell_type": "markdown",
      "metadata": {
        "id": "DraV_EIjbeDV"
      },
      "source": [
        "#Data Cleaning"
      ]
    },
    {
      "cell_type": "code",
      "metadata": {
        "colab": {
          "base_uri": "https://localhost:8080/"
        },
        "id": "yKVeQiwNbGRw",
        "outputId": "c6c2a0df-fefb-4424-b7ae-d88dd3acae05"
      },
      "source": [
        "import pandas as pd\r\n",
        "import numpy as np\r\n",
        "\r\n",
        "d='https://raw.githubusercontent.com/realpython/python-data-cleaning/master/Datasets/BL-Flickr-Images-Book.csv'\r\n",
        "columns=[\"Identifier\",\"Edition_Statement\",\"Place_of_Publication\",\"Date_of_Publication\",\"Publisher\",\"Title\",\"Author\",\"Contributors\",\"Corporate_Author\",\"Corporate_Contributors\",\"Former_owner\",\"Engraver\",\"Issuance_type\",\"Flickr_URL,Shelfmarks\"]\r\n",
        "df = pd.read_csv(d,sep=',')\r\n",
        "print(df.head())\r\n",
        "print(df.columns)\r\n",
        "\r\n",
        "\r\n"
      ],
      "execution_count": 1,
      "outputs": [
        {
          "output_type": "stream",
          "text": [
            "   Identifier  ...                           Shelfmarks\n",
            "0         206  ...    British Library HMNTS 12641.b.30.\n",
            "1         216  ...    British Library HMNTS 12626.cc.2.\n",
            "2         218  ...    British Library HMNTS 12625.dd.1.\n",
            "3         472  ...  British Library HMNTS 10369.bbb.15.\n",
            "4         480  ...     British Library HMNTS 9007.d.28.\n",
            "\n",
            "[5 rows x 15 columns]\n",
            "Index(['Identifier', 'Edition Statement', 'Place of Publication',\n",
            "       'Date of Publication', 'Publisher', 'Title', 'Author', 'Contributors',\n",
            "       'Corporate Author', 'Corporate Contributors', 'Former owner',\n",
            "       'Engraver', 'Issuance type', 'Flickr URL', 'Shelfmarks'],\n",
            "      dtype='object')\n"
          ],
          "name": "stdout"
        }
      ]
    },
    {
      "cell_type": "markdown",
      "metadata": {
        "id": "pfXLYSj3bpO6"
      },
      "source": [
        "#Dropping Columns in a DataFrame\r\n"
      ]
    },
    {
      "cell_type": "code",
      "metadata": {
        "colab": {
          "base_uri": "https://localhost:8080/",
          "height": 589
        },
        "id": "5A1m_B_abuNG",
        "outputId": "27fe01cf-8a75-40b7-a0ba-b0f43f6b9d6f"
      },
      "source": [
        "to_drop=['Edition Statement','Corporate Author','Corporate Contributors','Former owner','Engraver','Contributors','Issuance type','Shelfmarks']\r\n",
        "df.drop(to_drop,axis=1)"
      ],
      "execution_count": 2,
      "outputs": [
        {
          "output_type": "execute_result",
          "data": {
            "text/html": [
              "<div>\n",
              "<style scoped>\n",
              "    .dataframe tbody tr th:only-of-type {\n",
              "        vertical-align: middle;\n",
              "    }\n",
              "\n",
              "    .dataframe tbody tr th {\n",
              "        vertical-align: top;\n",
              "    }\n",
              "\n",
              "    .dataframe thead th {\n",
              "        text-align: right;\n",
              "    }\n",
              "</style>\n",
              "<table border=\"1\" class=\"dataframe\">\n",
              "  <thead>\n",
              "    <tr style=\"text-align: right;\">\n",
              "      <th></th>\n",
              "      <th>Identifier</th>\n",
              "      <th>Place of Publication</th>\n",
              "      <th>Date of Publication</th>\n",
              "      <th>Publisher</th>\n",
              "      <th>Title</th>\n",
              "      <th>Author</th>\n",
              "      <th>Flickr URL</th>\n",
              "    </tr>\n",
              "  </thead>\n",
              "  <tbody>\n",
              "    <tr>\n",
              "      <th>0</th>\n",
              "      <td>206</td>\n",
              "      <td>London</td>\n",
              "      <td>1879 [1878]</td>\n",
              "      <td>S. Tinsley &amp; Co.</td>\n",
              "      <td>Walter Forbes. [A novel.] By A. A</td>\n",
              "      <td>A. A.</td>\n",
              "      <td>http://www.flickr.com/photos/britishlibrary/ta...</td>\n",
              "    </tr>\n",
              "    <tr>\n",
              "      <th>1</th>\n",
              "      <td>216</td>\n",
              "      <td>London; Virtue &amp; Yorston</td>\n",
              "      <td>1868</td>\n",
              "      <td>Virtue &amp; Co.</td>\n",
              "      <td>All for Greed. [A novel. The dedication signed...</td>\n",
              "      <td>A., A. A.</td>\n",
              "      <td>http://www.flickr.com/photos/britishlibrary/ta...</td>\n",
              "    </tr>\n",
              "    <tr>\n",
              "      <th>2</th>\n",
              "      <td>218</td>\n",
              "      <td>London</td>\n",
              "      <td>1869</td>\n",
              "      <td>Bradbury, Evans &amp; Co.</td>\n",
              "      <td>Love the Avenger. By the author of “All for Gr...</td>\n",
              "      <td>A., A. A.</td>\n",
              "      <td>http://www.flickr.com/photos/britishlibrary/ta...</td>\n",
              "    </tr>\n",
              "    <tr>\n",
              "      <th>3</th>\n",
              "      <td>472</td>\n",
              "      <td>London</td>\n",
              "      <td>1851</td>\n",
              "      <td>James Darling</td>\n",
              "      <td>Welsh Sketches, chiefly ecclesiastical, to the...</td>\n",
              "      <td>A., E. S.</td>\n",
              "      <td>http://www.flickr.com/photos/britishlibrary/ta...</td>\n",
              "    </tr>\n",
              "    <tr>\n",
              "      <th>4</th>\n",
              "      <td>480</td>\n",
              "      <td>London</td>\n",
              "      <td>1857</td>\n",
              "      <td>Wertheim &amp; Macintosh</td>\n",
              "      <td>[The World in which I live, and my place in it...</td>\n",
              "      <td>A., E. S.</td>\n",
              "      <td>http://www.flickr.com/photos/britishlibrary/ta...</td>\n",
              "    </tr>\n",
              "    <tr>\n",
              "      <th>...</th>\n",
              "      <td>...</td>\n",
              "      <td>...</td>\n",
              "      <td>...</td>\n",
              "      <td>...</td>\n",
              "      <td>...</td>\n",
              "      <td>...</td>\n",
              "      <td>...</td>\n",
              "    </tr>\n",
              "    <tr>\n",
              "      <th>8282</th>\n",
              "      <td>4158088</td>\n",
              "      <td>London</td>\n",
              "      <td>1838</td>\n",
              "      <td>NaN</td>\n",
              "      <td>The Parochial History of Cornwall, founded on,...</td>\n",
              "      <td>GIDDY, afterwards GILBERT, Davies.</td>\n",
              "      <td>http://www.flickr.com/photos/britishlibrary/ta...</td>\n",
              "    </tr>\n",
              "    <tr>\n",
              "      <th>8283</th>\n",
              "      <td>4158128</td>\n",
              "      <td>Derby</td>\n",
              "      <td>1831, 32</td>\n",
              "      <td>M. Mozley &amp; Son</td>\n",
              "      <td>The History and Gazetteer of the County of Der...</td>\n",
              "      <td>GLOVER, Stephen - of Derby</td>\n",
              "      <td>http://www.flickr.com/photos/britishlibrary/ta...</td>\n",
              "    </tr>\n",
              "    <tr>\n",
              "      <th>8284</th>\n",
              "      <td>4159563</td>\n",
              "      <td>London</td>\n",
              "      <td>[1806]-22</td>\n",
              "      <td>T. Cadell and W. Davies</td>\n",
              "      <td>Magna Britannia; being a concise topographical...</td>\n",
              "      <td>LYSONS, Daniel - M.A., F.R.S., and LYSONS (Sam...</td>\n",
              "      <td>http://www.flickr.com/photos/britishlibrary/ta...</td>\n",
              "    </tr>\n",
              "    <tr>\n",
              "      <th>8285</th>\n",
              "      <td>4159587</td>\n",
              "      <td>Newcastle upon Tyne</td>\n",
              "      <td>1834</td>\n",
              "      <td>Mackenzie &amp; Dent</td>\n",
              "      <td>An historical, topographical and descriptive v...</td>\n",
              "      <td>Mackenzie, E. (Eneas)</td>\n",
              "      <td>http://www.flickr.com/photos/britishlibrary/ta...</td>\n",
              "    </tr>\n",
              "    <tr>\n",
              "      <th>8286</th>\n",
              "      <td>4160339</td>\n",
              "      <td>London</td>\n",
              "      <td>1834-43</td>\n",
              "      <td>NaN</td>\n",
              "      <td>Collectanea Topographica et Genealogica. [Firs...</td>\n",
              "      <td>NaN</td>\n",
              "      <td>http://www.flickr.com/photos/britishlibrary/ta...</td>\n",
              "    </tr>\n",
              "  </tbody>\n",
              "</table>\n",
              "<p>8287 rows × 7 columns</p>\n",
              "</div>"
            ],
            "text/plain": [
              "      Identifier  ...                                         Flickr URL\n",
              "0            206  ...  http://www.flickr.com/photos/britishlibrary/ta...\n",
              "1            216  ...  http://www.flickr.com/photos/britishlibrary/ta...\n",
              "2            218  ...  http://www.flickr.com/photos/britishlibrary/ta...\n",
              "3            472  ...  http://www.flickr.com/photos/britishlibrary/ta...\n",
              "4            480  ...  http://www.flickr.com/photos/britishlibrary/ta...\n",
              "...          ...  ...                                                ...\n",
              "8282     4158088  ...  http://www.flickr.com/photos/britishlibrary/ta...\n",
              "8283     4158128  ...  http://www.flickr.com/photos/britishlibrary/ta...\n",
              "8284     4159563  ...  http://www.flickr.com/photos/britishlibrary/ta...\n",
              "8285     4159587  ...  http://www.flickr.com/photos/britishlibrary/ta...\n",
              "8286     4160339  ...  http://www.flickr.com/photos/britishlibrary/ta...\n",
              "\n",
              "[8287 rows x 7 columns]"
            ]
          },
          "metadata": {
            "tags": []
          },
          "execution_count": 2
        }
      ]
    },
    {
      "cell_type": "markdown",
      "metadata": {
        "id": "grxAJ557fDxI"
      },
      "source": [
        "#Changing index"
      ]
    },
    {
      "cell_type": "code",
      "metadata": {
        "colab": {
          "base_uri": "https://localhost:8080/",
          "height": 1000
        },
        "id": "0xraW05ufGpl",
        "outputId": "52f6f284-bf72-479a-b1f0-72af45ebaafd"
      },
      "source": [
        "#Check if Identifier have unique values\r\n",
        "print(\"Check if Identifier have unique values: \\n\",df['Identifier'].is_unique)\r\n",
        "\r\n",
        "#set Identifier as index\r\n",
        "df.set_index('Identifier')"
      ],
      "execution_count": 3,
      "outputs": [
        {
          "output_type": "stream",
          "text": [
            "Check if Identifier have unique values: \n",
            " True\n"
          ],
          "name": "stdout"
        },
        {
          "output_type": "execute_result",
          "data": {
            "text/html": [
              "<div>\n",
              "<style scoped>\n",
              "    .dataframe tbody tr th:only-of-type {\n",
              "        vertical-align: middle;\n",
              "    }\n",
              "\n",
              "    .dataframe tbody tr th {\n",
              "        vertical-align: top;\n",
              "    }\n",
              "\n",
              "    .dataframe thead th {\n",
              "        text-align: right;\n",
              "    }\n",
              "</style>\n",
              "<table border=\"1\" class=\"dataframe\">\n",
              "  <thead>\n",
              "    <tr style=\"text-align: right;\">\n",
              "      <th></th>\n",
              "      <th>Edition Statement</th>\n",
              "      <th>Place of Publication</th>\n",
              "      <th>Date of Publication</th>\n",
              "      <th>Publisher</th>\n",
              "      <th>Title</th>\n",
              "      <th>Author</th>\n",
              "      <th>Contributors</th>\n",
              "      <th>Corporate Author</th>\n",
              "      <th>Corporate Contributors</th>\n",
              "      <th>Former owner</th>\n",
              "      <th>Engraver</th>\n",
              "      <th>Issuance type</th>\n",
              "      <th>Flickr URL</th>\n",
              "      <th>Shelfmarks</th>\n",
              "    </tr>\n",
              "    <tr>\n",
              "      <th>Identifier</th>\n",
              "      <th></th>\n",
              "      <th></th>\n",
              "      <th></th>\n",
              "      <th></th>\n",
              "      <th></th>\n",
              "      <th></th>\n",
              "      <th></th>\n",
              "      <th></th>\n",
              "      <th></th>\n",
              "      <th></th>\n",
              "      <th></th>\n",
              "      <th></th>\n",
              "      <th></th>\n",
              "      <th></th>\n",
              "    </tr>\n",
              "  </thead>\n",
              "  <tbody>\n",
              "    <tr>\n",
              "      <th>206</th>\n",
              "      <td>NaN</td>\n",
              "      <td>London</td>\n",
              "      <td>1879 [1878]</td>\n",
              "      <td>S. Tinsley &amp; Co.</td>\n",
              "      <td>Walter Forbes. [A novel.] By A. A</td>\n",
              "      <td>A. A.</td>\n",
              "      <td>FORBES, Walter.</td>\n",
              "      <td>NaN</td>\n",
              "      <td>NaN</td>\n",
              "      <td>NaN</td>\n",
              "      <td>NaN</td>\n",
              "      <td>monographic</td>\n",
              "      <td>http://www.flickr.com/photos/britishlibrary/ta...</td>\n",
              "      <td>British Library HMNTS 12641.b.30.</td>\n",
              "    </tr>\n",
              "    <tr>\n",
              "      <th>216</th>\n",
              "      <td>NaN</td>\n",
              "      <td>London; Virtue &amp; Yorston</td>\n",
              "      <td>1868</td>\n",
              "      <td>Virtue &amp; Co.</td>\n",
              "      <td>All for Greed. [A novel. The dedication signed...</td>\n",
              "      <td>A., A. A.</td>\n",
              "      <td>BLAZE DE BURY, Marie Pauline Rose - Baroness</td>\n",
              "      <td>NaN</td>\n",
              "      <td>NaN</td>\n",
              "      <td>NaN</td>\n",
              "      <td>NaN</td>\n",
              "      <td>monographic</td>\n",
              "      <td>http://www.flickr.com/photos/britishlibrary/ta...</td>\n",
              "      <td>British Library HMNTS 12626.cc.2.</td>\n",
              "    </tr>\n",
              "    <tr>\n",
              "      <th>218</th>\n",
              "      <td>NaN</td>\n",
              "      <td>London</td>\n",
              "      <td>1869</td>\n",
              "      <td>Bradbury, Evans &amp; Co.</td>\n",
              "      <td>Love the Avenger. By the author of “All for Gr...</td>\n",
              "      <td>A., A. A.</td>\n",
              "      <td>BLAZE DE BURY, Marie Pauline Rose - Baroness</td>\n",
              "      <td>NaN</td>\n",
              "      <td>NaN</td>\n",
              "      <td>NaN</td>\n",
              "      <td>NaN</td>\n",
              "      <td>monographic</td>\n",
              "      <td>http://www.flickr.com/photos/britishlibrary/ta...</td>\n",
              "      <td>British Library HMNTS 12625.dd.1.</td>\n",
              "    </tr>\n",
              "    <tr>\n",
              "      <th>472</th>\n",
              "      <td>NaN</td>\n",
              "      <td>London</td>\n",
              "      <td>1851</td>\n",
              "      <td>James Darling</td>\n",
              "      <td>Welsh Sketches, chiefly ecclesiastical, to the...</td>\n",
              "      <td>A., E. S.</td>\n",
              "      <td>Appleyard, Ernest Silvanus.</td>\n",
              "      <td>NaN</td>\n",
              "      <td>NaN</td>\n",
              "      <td>NaN</td>\n",
              "      <td>NaN</td>\n",
              "      <td>monographic</td>\n",
              "      <td>http://www.flickr.com/photos/britishlibrary/ta...</td>\n",
              "      <td>British Library HMNTS 10369.bbb.15.</td>\n",
              "    </tr>\n",
              "    <tr>\n",
              "      <th>480</th>\n",
              "      <td>A new edition, revised, etc.</td>\n",
              "      <td>London</td>\n",
              "      <td>1857</td>\n",
              "      <td>Wertheim &amp; Macintosh</td>\n",
              "      <td>[The World in which I live, and my place in it...</td>\n",
              "      <td>A., E. S.</td>\n",
              "      <td>BROOME, John Henry.</td>\n",
              "      <td>NaN</td>\n",
              "      <td>NaN</td>\n",
              "      <td>NaN</td>\n",
              "      <td>NaN</td>\n",
              "      <td>monographic</td>\n",
              "      <td>http://www.flickr.com/photos/britishlibrary/ta...</td>\n",
              "      <td>British Library HMNTS 9007.d.28.</td>\n",
              "    </tr>\n",
              "    <tr>\n",
              "      <th>...</th>\n",
              "      <td>...</td>\n",
              "      <td>...</td>\n",
              "      <td>...</td>\n",
              "      <td>...</td>\n",
              "      <td>...</td>\n",
              "      <td>...</td>\n",
              "      <td>...</td>\n",
              "      <td>...</td>\n",
              "      <td>...</td>\n",
              "      <td>...</td>\n",
              "      <td>...</td>\n",
              "      <td>...</td>\n",
              "      <td>...</td>\n",
              "      <td>...</td>\n",
              "    </tr>\n",
              "    <tr>\n",
              "      <th>4158088</th>\n",
              "      <td>NaN</td>\n",
              "      <td>London</td>\n",
              "      <td>1838</td>\n",
              "      <td>NaN</td>\n",
              "      <td>The Parochial History of Cornwall, founded on,...</td>\n",
              "      <td>GIDDY, afterwards GILBERT, Davies.</td>\n",
              "      <td>BOASE, Henry Samuel.|HALS, William.|LYSONS, Da...</td>\n",
              "      <td>NaN</td>\n",
              "      <td>NaN</td>\n",
              "      <td>NaN</td>\n",
              "      <td>NaN</td>\n",
              "      <td>monographic</td>\n",
              "      <td>http://www.flickr.com/photos/britishlibrary/ta...</td>\n",
              "      <td>British Library HMNTS|British Library HMNTS 10...</td>\n",
              "    </tr>\n",
              "    <tr>\n",
              "      <th>4158128</th>\n",
              "      <td>NaN</td>\n",
              "      <td>Derby</td>\n",
              "      <td>1831, 32</td>\n",
              "      <td>M. Mozley &amp; Son</td>\n",
              "      <td>The History and Gazetteer of the County of Der...</td>\n",
              "      <td>GLOVER, Stephen - of Derby</td>\n",
              "      <td>NOBLE, Thomas.</td>\n",
              "      <td>NaN</td>\n",
              "      <td>NaN</td>\n",
              "      <td>NaN</td>\n",
              "      <td>NaN</td>\n",
              "      <td>monographic</td>\n",
              "      <td>http://www.flickr.com/photos/britishlibrary/ta...</td>\n",
              "      <td>British Library HMNTS|British Library HMNTS 10...</td>\n",
              "    </tr>\n",
              "    <tr>\n",
              "      <th>4159563</th>\n",
              "      <td>NaN</td>\n",
              "      <td>London</td>\n",
              "      <td>[1806]-22</td>\n",
              "      <td>T. Cadell and W. Davies</td>\n",
              "      <td>Magna Britannia; being a concise topographical...</td>\n",
              "      <td>LYSONS, Daniel - M.A., F.R.S., and LYSONS (Sam...</td>\n",
              "      <td>GREGSON, Matthew.|LYSONS, Samuel - F.R.S</td>\n",
              "      <td>NaN</td>\n",
              "      <td>NaN</td>\n",
              "      <td>NaN</td>\n",
              "      <td>NaN</td>\n",
              "      <td>monographic</td>\n",
              "      <td>http://www.flickr.com/photos/britishlibrary/ta...</td>\n",
              "      <td>British Library HMNTS|British Library HMNTS 19...</td>\n",
              "    </tr>\n",
              "    <tr>\n",
              "      <th>4159587</th>\n",
              "      <td>NaN</td>\n",
              "      <td>Newcastle upon Tyne</td>\n",
              "      <td>1834</td>\n",
              "      <td>Mackenzie &amp; Dent</td>\n",
              "      <td>An historical, topographical and descriptive v...</td>\n",
              "      <td>Mackenzie, E. (Eneas)</td>\n",
              "      <td>ROSS, M. - of Durham</td>\n",
              "      <td>NaN</td>\n",
              "      <td>NaN</td>\n",
              "      <td>NaN</td>\n",
              "      <td>NaN</td>\n",
              "      <td>monographic</td>\n",
              "      <td>http://www.flickr.com/photos/britishlibrary/ta...</td>\n",
              "      <td>British Library HMNTS|British Library HMNTS 10...</td>\n",
              "    </tr>\n",
              "    <tr>\n",
              "      <th>4160339</th>\n",
              "      <td>NaN</td>\n",
              "      <td>London</td>\n",
              "      <td>1834-43</td>\n",
              "      <td>NaN</td>\n",
              "      <td>Collectanea Topographica et Genealogica. [Firs...</td>\n",
              "      <td>NaN</td>\n",
              "      <td>BANDINEL, Bulkeley.|Nichols, John Gough</td>\n",
              "      <td>NaN</td>\n",
              "      <td>NaN</td>\n",
              "      <td>NaN</td>\n",
              "      <td>NaN</td>\n",
              "      <td>continuing</td>\n",
              "      <td>http://www.flickr.com/photos/britishlibrary/ta...</td>\n",
              "      <td>British Library HMNTS|British Library HMNTS 79...</td>\n",
              "    </tr>\n",
              "  </tbody>\n",
              "</table>\n",
              "<p>8287 rows × 14 columns</p>\n",
              "</div>"
            ],
            "text/plain": [
              "                       Edition Statement  ...                                         Shelfmarks\n",
              "Identifier                                ...                                                   \n",
              "206                                  NaN  ...                  British Library HMNTS 12641.b.30.\n",
              "216                                  NaN  ...                  British Library HMNTS 12626.cc.2.\n",
              "218                                  NaN  ...                  British Library HMNTS 12625.dd.1.\n",
              "472                                  NaN  ...                British Library HMNTS 10369.bbb.15.\n",
              "480         A new edition, revised, etc.  ...                   British Library HMNTS 9007.d.28.\n",
              "...                                  ...  ...                                                ...\n",
              "4158088                              NaN  ...  British Library HMNTS|British Library HMNTS 10...\n",
              "4158128                              NaN  ...  British Library HMNTS|British Library HMNTS 10...\n",
              "4159563                              NaN  ...  British Library HMNTS|British Library HMNTS 19...\n",
              "4159587                              NaN  ...  British Library HMNTS|British Library HMNTS 10...\n",
              "4160339                              NaN  ...  British Library HMNTS|British Library HMNTS 79...\n",
              "\n",
              "[8287 rows x 14 columns]"
            ]
          },
          "metadata": {
            "tags": []
          },
          "execution_count": 3
        }
      ]
    },
    {
      "cell_type": "markdown",
      "metadata": {
        "id": "mvKV8bsuia2N"
      },
      "source": [
        "#Tidying up Fields in the Data"
      ]
    },
    {
      "cell_type": "code",
      "metadata": {
        "colab": {
          "base_uri": "https://localhost:8080/"
        },
        "id": "8CTQiS7Sif0I",
        "outputId": "f74c43e5-6b76-4858-8e65-e4b90900cc05"
      },
      "source": [
        "print(df.dtypes.value_counts())"
      ],
      "execution_count": 4,
      "outputs": [
        {
          "output_type": "stream",
          "text": [
            "object     11\n",
            "float64     3\n",
            "int64       1\n",
            "dtype: int64\n"
          ],
          "name": "stdout"
        }
      ]
    },
    {
      "cell_type": "code",
      "metadata": {
        "colab": {
          "base_uri": "https://localhost:8080/"
        },
        "id": "oe131G13kGZ-",
        "outputId": "740ad48a-c8df-4142-957d-321dca8ac499"
      },
      "source": [
        "df.loc[1000:, 'Date of Publication'].head(10)"
      ],
      "execution_count": 5,
      "outputs": [
        {
          "output_type": "execute_result",
          "data": {
            "text/plain": [
              "1000            1842\n",
              "1001            1851\n",
              "1002            1876\n",
              "1003    1853, [1852]\n",
              "1004            1857\n",
              "1005            1863\n",
              "1006            1869\n",
              "1007          [1896]\n",
              "1008            1894\n",
              "1009        1863, 64\n",
              "Name: Date of Publication, dtype: object"
            ]
          },
          "metadata": {
            "tags": []
          },
          "execution_count": 5
        }
      ]
    },
    {
      "cell_type": "code",
      "metadata": {
        "colab": {
          "base_uri": "https://localhost:8080/"
        },
        "id": "GkWdDaN5luj3",
        "outputId": "233b214f-11c9-4e92-c882-4c07919f4ecf"
      },
      "source": [
        "import re\r\n",
        "regex = r'^(\\d{4})'\r\n",
        "#extr = df['Date of Publication'].str.extract(r'^(\\d{4})', expand=False)\r\n",
        "#print(extr)\r\n",
        "\r\n",
        "df['Date of Publication'] = pd.to_numeric(df['Date of Publication'], errors='coerce')\r\n",
        "print(df['Date of Publication'].dtype)\r\n",
        "print(df['Date of Publication'])"
      ],
      "execution_count": 6,
      "outputs": [
        {
          "output_type": "stream",
          "text": [
            "float64\n",
            "0          NaN\n",
            "1       1868.0\n",
            "2       1869.0\n",
            "3       1851.0\n",
            "4       1857.0\n",
            "         ...  \n",
            "8282    1838.0\n",
            "8283       NaN\n",
            "8284       NaN\n",
            "8285    1834.0\n",
            "8286       NaN\n",
            "Name: Date of Publication, Length: 8287, dtype: float64\n"
          ],
          "name": "stdout"
        }
      ]
    },
    {
      "cell_type": "markdown",
      "metadata": {
        "id": "kTCVX2mzpLfe"
      },
      "source": [
        "#Combining str Methods with NumPy to Clean Columns"
      ]
    },
    {
      "cell_type": "code",
      "metadata": {
        "colab": {
          "base_uri": "https://localhost:8080/"
        },
        "id": "xtgKrExzpQCQ",
        "outputId": "9f05bf41-a3be-409c-f3be-e7c36de1ce78"
      },
      "source": [
        "#Get a specific column\r\n",
        "print(\"Get a specific column:\\n\",df['Place of Publication'].head(10))\r\n",
        "\r\n",
        "#Get a specific row\r\n",
        "print(\"Get a specific row:\\n\",df.loc[1003])"
      ],
      "execution_count": 7,
      "outputs": [
        {
          "output_type": "stream",
          "text": [
            "Get a specific column:\n",
            " 0                                 London\n",
            "1               London; Virtue & Yorston\n",
            "2                                 London\n",
            "3                                 London\n",
            "4                                 London\n",
            "5                                 London\n",
            "6                                 London\n",
            "7    pp. 40. G. Bryan & Co: Oxford, 1898\n",
            "8                                London]\n",
            "9                                 London\n",
            "Name: Place of Publication, dtype: object\n",
            "Get a specific row:\n",
            " Identifier                                                           487146\n",
            "Edition Statement         New edition. With an appendix of the populatio...\n",
            "Place of Publication                                                 London\n",
            "Date of Publication                                                     NaN\n",
            "Publisher                                                     W. Tegg & Co.\n",
            "Title                     [A General Gazetteer, in miniature ... The who...\n",
            "Author                                               BROOKES, Richard - M.D\n",
            "Contributors                                     FINDLAY, Alexander George.\n",
            "Corporate Author                                                        NaN\n",
            "Corporate Contributors                                                  NaN\n",
            "Former owner                                                            NaN\n",
            "Engraver                                                                NaN\n",
            "Issuance type                                                   monographic\n",
            "Flickr URL                http://www.flickr.com/photos/britishlibrary/ta...\n",
            "Shelfmarks                                British Library HMNTS 10002.e.21.\n",
            "Name: 1003, dtype: object\n"
          ],
          "name": "stdout"
        }
      ]
    },
    {
      "cell_type": "code",
      "metadata": {
        "colab": {
          "base_uri": "https://localhost:8080/"
        },
        "id": "hh9iUZPfv6ZL",
        "outputId": "5df80eff-9477-48f9-db9c-546722dc8a49"
      },
      "source": [
        "p=df['Place of Publication']\r\n",
        "l=p.str.contains('London')\r\n",
        "o=p.str.contains('Oxford')\r\n",
        "\r\n",
        "df['Place of Publication'] = np.where(l, 'London',\r\n",
        "                                      np.where(o, 'Oxford',\r\n",
        "                                               p.str.replace('-', ' ')))\r\n",
        "print(df['Place of Publication'])"
      ],
      "execution_count": 8,
      "outputs": [
        {
          "output_type": "stream",
          "text": [
            "0                    London\n",
            "1                    London\n",
            "2                    London\n",
            "3                    London\n",
            "4                    London\n",
            "               ...         \n",
            "8282                 London\n",
            "8283                  Derby\n",
            "8284                 London\n",
            "8285    Newcastle upon Tyne\n",
            "8286                 London\n",
            "Name: Place of Publication, Length: 8287, dtype: object\n"
          ],
          "name": "stdout"
        }
      ]
    },
    {
      "cell_type": "markdown",
      "metadata": {
        "id": "4wWf2T53QaJ_"
      },
      "source": [
        ""
      ]
    },
    {
      "cell_type": "code",
      "metadata": {
        "colab": {
          "base_uri": "https://localhost:8080/"
        },
        "id": "WciOaHM8Qaaa",
        "outputId": "9088ef4c-ed02-4508-dbbd-d6c74f709860"
      },
      "source": [
        "d='https://github.com/realpython/python-data-cleaning/blob/master/Datasets/olympics.csv'\r\n",
        "df = pd.read_csv(d, skiprows=2, error_bad_lines=False)\r\n",
        "print(df.head())\r\n",
        "print(df.columns)\r\n",
        "print(df)"
      ],
      "execution_count": 16,
      "outputs": [
        {
          "output_type": "stream",
          "text": [
            "                                     <!DOCTYPE html>\n",
            "0                                   <html lang=\"en\">\n",
            "1                                             <head>\n",
            "2                             <meta charset=\"utf-8\">\n",
            "3    <link rel=\"dns-prefetch\" href=\"https://githu...\n",
            "4    <link rel=\"dns-prefetch\" href=\"https://avata...\n",
            "Index(['<!DOCTYPE html>'], dtype='object')\n",
            "                                        <!DOCTYPE html>\n",
            "0                                      <html lang=\"en\">\n",
            "1                                                <head>\n",
            "2                                <meta charset=\"utf-8\">\n",
            "3       <link rel=\"dns-prefetch\" href=\"https://githu...\n",
            "4       <link rel=\"dns-prefetch\" href=\"https://avata...\n",
            "...                                                 ...\n",
            "3472    <div class=\"Popover-message Popover-message-...\n",
            "3473                                             </div>\n",
            "3474                                             </div>\n",
            "3475                                            </body>\n",
            "3476                                            </html>\n",
            "\n",
            "[3477 rows x 1 columns]\n"
          ],
          "name": "stdout"
        },
        {
          "output_type": "stream",
          "text": [
            "b'Skipping line 71: expected 1 fields, saw 2\\nSkipping line 90: expected 1 fields, saw 137\\nSkipping line 91: expected 1 fields, saw 2\\nSkipping line 106: expected 1 fields, saw 3\\nSkipping line 154: expected 1 fields, saw 3\\nSkipping line 166: expected 1 fields, saw 6\\nSkipping line 167: expected 1 fields, saw 3\\nSkipping line 191: expected 1 fields, saw 4\\nSkipping line 195: expected 1 fields, saw 2\\nSkipping line 197: expected 1 fields, saw 2\\nSkipping line 198: expected 1 fields, saw 2\\nSkipping line 199: expected 1 fields, saw 2\\nSkipping line 200: expected 1 fields, saw 2\\nSkipping line 201: expected 1 fields, saw 2\\nSkipping line 202: expected 1 fields, saw 2\\nSkipping line 203: expected 1 fields, saw 2\\nSkipping line 204: expected 1 fields, saw 2\\nSkipping line 205: expected 1 fields, saw 2\\nSkipping line 209: expected 1 fields, saw 2\\nSkipping line 210: expected 1 fields, saw 2\\nSkipping line 216: expected 1 fields, saw 2\\nSkipping line 219: expected 1 fields, saw 2\\nSkipping line 227: expected 1 fields, saw 4\\nSkipping line 233: expected 1 fields, saw 2\\nSkipping line 238: expected 1 fields, saw 2\\nSkipping line 239: expected 1 fields, saw 2\\nSkipping line 240: expected 1 fields, saw 2\\nSkipping line 241: expected 1 fields, saw 2\\nSkipping line 242: expected 1 fields, saw 2\\nSkipping line 247: expected 1 fields, saw 2\\nSkipping line 248: expected 1 fields, saw 2\\nSkipping line 249: expected 1 fields, saw 2\\nSkipping line 250: expected 1 fields, saw 2\\nSkipping line 257: expected 1 fields, saw 2\\nSkipping line 265: expected 1 fields, saw 4\\nSkipping line 270: expected 1 fields, saw 2\\nSkipping line 273: expected 1 fields, saw 2\\nSkipping line 274: expected 1 fields, saw 2\\nSkipping line 278: expected 1 fields, saw 2\\nSkipping line 279: expected 1 fields, saw 2\\nSkipping line 301: expected 1 fields, saw 2\\nSkipping line 439: expected 1 fields, saw 6\\nSkipping line 440: expected 1 fields, saw 3\\nSkipping line 445: expected 1 fields, saw 6\\nSkipping line 446: expected 1 fields, saw 3\\nSkipping line 536: expected 1 fields, saw 6\\nSkipping line 547: expected 1 fields, saw 6\\nSkipping line 560: expected 1 fields, saw 6\\nSkipping line 576: expected 1 fields, saw 3\\nSkipping line 584: expected 1 fields, saw 3\\nSkipping line 592: expected 1 fields, saw 3\\nSkipping line 600: expected 1 fields, saw 3\\nSkipping line 608: expected 1 fields, saw 3\\nSkipping line 707: expected 1 fields, saw 7\\nSkipping line 755: expected 1 fields, saw 2\\nSkipping line 827: expected 1 fields, saw 2\\nSkipping line 830: expected 1 fields, saw 2\\nSkipping line 3726: expected 1 fields, saw 2\\nSkipping line 3727: expected 1 fields, saw 3\\nSkipping line 3728: expected 1 fields, saw 3\\nSkipping line 3729: expected 1 fields, saw 3\\nSkipping line 3730: expected 1 fields, saw 3\\nSkipping line 3731: expected 1 fields, saw 3\\nSkipping line 3738: expected 1 fields, saw 3\\nSkipping line 3739: expected 1 fields, saw 3\\nSkipping line 3740: expected 1 fields, saw 3\\nSkipping line 3741: expected 1 fields, saw 3\\nSkipping line 3742: expected 1 fields, saw 3\\nSkipping line 3743: expected 1 fields, saw 3\\n'\n"
          ],
          "name": "stderr"
        }
      ]
    }
  ]
}