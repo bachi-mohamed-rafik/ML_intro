{
  "nbformat": 4,
  "nbformat_minor": 0,
  "metadata": {
    "colab": {
      "name": "Basics.ipynb",
      "provenance": [],
      "collapsed_sections": [],
      "authorship_tag": "ABX9TyPCWmq9uisilzdeVuBb4G4Z",
      "include_colab_link": true
    },
    "kernelspec": {
      "name": "python3",
      "display_name": "Python 3"
    }
  },
  "cells": [
    {
      "cell_type": "markdown",
      "metadata": {
        "id": "view-in-github",
        "colab_type": "text"
      },
      "source": [
        "<a href=\"https://colab.research.google.com/github/bachi-mohamed-rafik/ML_intro/blob/main/Basics.ipynb\" target=\"_parent\"><img src=\"https://colab.research.google.com/assets/colab-badge.svg\" alt=\"Open In Colab\"/></a>"
      ]
    },
    {
      "cell_type": "markdown",
      "metadata": {
        "id": "lz9iGEycEc2R"
      },
      "source": [
        "#PYTORCH"
      ]
    },
    {
      "cell_type": "code",
      "metadata": {
        "id": "s2zrfjakEbkG"
      },
      "source": [
        "import torch"
      ],
      "execution_count": 1,
      "outputs": []
    },
    {
      "cell_type": "code",
      "metadata": {
        "colab": {
          "base_uri": "https://localhost:8080/"
        },
        "id": "khIaLpEOEwKO",
        "outputId": "66a6a105-b37e-494f-b7ae-dfdcbfd43025"
      },
      "source": [
        "#Create a Tensor\r\n",
        "New_Tensor=torch.Tensor([[1,2,3],[4,5,6],[7,8,9]])\r\n",
        "print(New_Tensor)\r\n",
        "#Create a tensor with onlty dimensions\r\n",
        "Next_Tensor=torch.Tensor(3,5)\r\n",
        "print(Next_Tensor)\r\n"
      ],
      "execution_count": 2,
      "outputs": [
        {
          "output_type": "stream",
          "text": [
            "tensor([[1., 2., 3.],\n",
            "        [4., 5., 6.],\n",
            "        [7., 8., 9.]])\n",
            "tensor([[3.4021e-36, 0.0000e+00, 5.0447e-44, 0.0000e+00,        nan],\n",
            "        [0.0000e+00, 1.3788e-14, 1.8369e+28, 1.9433e-19, 3.3738e-12],\n",
            "        [7.4086e+28, 6.9397e+22, 1.7260e+25, 2.2856e+20, 5.0948e-14]])\n"
          ],
          "name": "stdout"
        }
      ]
    },
    {
      "cell_type": "code",
      "metadata": {
        "colab": {
          "base_uri": "https://localhost:8080/"
        },
        "id": "x0VVv73vFPlE",
        "outputId": "59acd246-0db7-4d0c-aa9a-56ba0794c151"
      },
      "source": [
        "#Create a multy dimensional Tensor with uniform values\r\n",
        "uniform_tensor=torch.Tensor(5,2).uniform_(2,3)\r\n",
        "print(uniform_tensor)"
      ],
      "execution_count": 3,
      "outputs": [
        {
          "output_type": "stream",
          "text": [
            "tensor([[2.5078, 2.3707],\n",
            "        [2.7393, 2.1547],\n",
            "        [2.5333, 2.0684],\n",
            "        [2.8196, 2.6028],\n",
            "        [2.7681, 2.1861]])\n"
          ],
          "name": "stdout"
        }
      ]
    },
    {
      "cell_type": "code",
      "metadata": {
        "colab": {
          "base_uri": "https://localhost:8080/"
        },
        "id": "Q0OjBozlHGqU",
        "outputId": "ffc1912e-c55d-463f-ff44-e919d4cbed4f"
      },
      "source": [
        "#Create tensor xith random values\r\n",
        "rand_tensor=torch.rand(5,4)\r\n",
        "print(rand_tensor)"
      ],
      "execution_count": 11,
      "outputs": [
        {
          "output_type": "stream",
          "text": [
            "tensor([[0.6641, 0.0204, 0.3880, 0.0562],\n",
            "        [0.0384, 0.0020, 0.8135, 0.7148],\n",
            "        [0.5415, 0.5901, 0.4874, 0.1699],\n",
            "        [0.8328, 0.2109, 0.9732, 0.1601],\n",
            "        [0.6629, 0.0525, 0.5569, 0.1374]])\n"
          ],
          "name": "stdout"
        }
      ]
    },
    {
      "cell_type": "code",
      "metadata": {
        "colab": {
          "base_uri": "https://localhost:8080/"
        },
        "id": "Ldn2FuZPHUe8",
        "outputId": "f354bcd1-263b-40dd-e83d-318421015f6d"
      },
      "source": [
        "# Create a zeros tensor\r\n",
        "zeros_tensor=torch.zeros(5,4)\r\n",
        "print(\"zeros_tensor: \\n\",zeros_tensor)\r\n",
        "\r\n",
        "# Create a ones tensor\r\n",
        "ones_tensor=torch.ones(5,4)\r\n",
        "print(\"ones_tensor:\\n\",ones_tensor)"
      ],
      "execution_count": 5,
      "outputs": [
        {
          "output_type": "stream",
          "text": [
            "zeros_tensor: \n",
            " tensor([[0., 0., 0., 0.],\n",
            "        [0., 0., 0., 0.],\n",
            "        [0., 0., 0., 0.],\n",
            "        [0., 0., 0., 0.],\n",
            "        [0., 0., 0., 0.]])\n",
            "ones_tensor:\n",
            " tensor([[1., 1., 1., 1.],\n",
            "        [1., 1., 1., 1.],\n",
            "        [1., 1., 1., 1.],\n",
            "        [1., 1., 1., 1.],\n",
            "        [1., 1., 1., 1.]])\n"
          ],
          "name": "stdout"
        }
      ]
    },
    {
      "cell_type": "code",
      "metadata": {
        "colab": {
          "base_uri": "https://localhost:8080/"
        },
        "id": "6Sdh6BsHIbeS",
        "outputId": "d6fdd82d-3cd0-40b4-b723-cf751f38bf7d"
      },
      "source": [
        "#Get value in Tensor\r\n",
        "new_tensor=torch.Tensor([[2,3],[4,5]])\r\n",
        "print(\"methode 1 : \\n\",new_tensor[0][0])\r\n",
        "print(\"methode 2 : \\n\",new_tensor[0][0].item())"
      ],
      "execution_count": 6,
      "outputs": [
        {
          "output_type": "stream",
          "text": [
            "methode 1 : \n",
            " tensor(2.)\n",
            "methode 2 : \n",
            " 2.0\n"
          ],
          "name": "stdout"
        }
      ]
    },
    {
      "cell_type": "code",
      "metadata": {
        "colab": {
          "base_uri": "https://localhost:8080/"
        },
        "id": "e_Rq_TdsJcUk",
        "outputId": "83e9f6bb-341e-48c1-f723-d58d9a7e3e0e"
      },
      "source": [
        "#Change a specific value in tensor\r\n",
        "new_tensor[1][0]=5\r\n",
        "print(new_tensor)"
      ],
      "execution_count": 7,
      "outputs": [
        {
          "output_type": "stream",
          "text": [
            "tensor([[2., 3.],\n",
            "        [5., 5.]])\n"
          ],
          "name": "stdout"
        }
      ]
    },
    {
      "cell_type": "code",
      "metadata": {
        "colab": {
          "base_uri": "https://localhost:8080/"
        },
        "id": "8Rd1fHEqKJne",
        "outputId": "82490661-fe8e-48bb-a235-578d719d151e"
      },
      "source": [
        "#Slicing from tensor\r\n",
        "slicing_tensor=torch.Tensor([[1,2,3],[5,6,5],[5,8,7],[5,7,8],[2,8,8]])\r\n",
        "print(\"Slicing the 3rd column \",slicing_tensor[:,2])\r\n",
        "print(\"Slicing the 3rd row \",slicing_tensor[2,:])\r\n",
        "print(\"Slicing the 3 first rows \",slicing_tensor[:2,:])"
      ],
      "execution_count": 8,
      "outputs": [
        {
          "output_type": "stream",
          "text": [
            "Slicing the 3rd column  tensor([3., 5., 7., 8., 8.])\n",
            "Slicing the 3rd row  tensor([5., 8., 7.])\n",
            "Slicing the 3 first rows  tensor([[1., 2., 3.],\n",
            "        [5., 6., 5.]])\n"
          ],
          "name": "stdout"
        }
      ]
    },
    {
      "cell_type": "code",
      "metadata": {
        "colab": {
          "base_uri": "https://localhost:8080/"
        },
        "id": "jn9F6vUBQim-",
        "outputId": "8bbf3b7e-d028-4655-cc9b-c1a06f5a5b36"
      },
      "source": [
        "#type\r\n",
        "print(type(new_tensor))\r\n",
        "\r\n",
        "#shape\r\n",
        "print(new_tensor.shape)\r\n",
        "\r\n",
        "#size or dimension\r\n",
        "print(new_tensor.size)\r\n",
        "print(new_tensor.dim)\r\n",
        "\r\n",
        "#View\r\n",
        "print(new_tensor.view(1,4))"
      ],
      "execution_count": 9,
      "outputs": [
        {
          "output_type": "stream",
          "text": [
            "<class 'torch.Tensor'>\n",
            "torch.Size([2, 2])\n",
            "<built-in method size of Tensor object at 0x7fa51407d750>\n",
            "<built-in method dim of Tensor object at 0x7fa51407d750>\n",
            "tensor([[2., 3., 5., 5.]])\n"
          ],
          "name": "stdout"
        }
      ]
    },
    {
      "cell_type": "markdown",
      "metadata": {
        "id": "L_HJUebWRzGW"
      },
      "source": [
        "#Operation to Tesor"
      ]
    },
    {
      "cell_type": "code",
      "metadata": {
        "colab": {
          "base_uri": "https://localhost:8080/"
        },
        "id": "tZcGonFERyTW",
        "outputId": "1db0c0fd-660e-4e4d-a237-15b5bcf912c7"
      },
      "source": [
        "#adding\r\n",
        "x=torch.rand(4,5)\r\n",
        "y=torch.rand(4,5)\r\n",
        "# methode 1 \r\n",
        "print(x+y)\r\n",
        "\r\n",
        "# methode 2\r\n",
        "print(torch.add(x,y))\r\n",
        "\r\n",
        "# methode 3\r\n",
        "result=torch.empty(4,5)\r\n",
        "print(torch.add(x,y,out=result))"
      ],
      "execution_count": null,
      "outputs": [
        {
          "output_type": "stream",
          "text": [
            "tensor([[1.0349, 1.1574, 0.8684, 0.9679, 0.5245],\n",
            "        [0.4407, 0.9771, 0.8708, 0.5253, 1.2466],\n",
            "        [0.3836, 1.4466, 1.0218, 1.1646, 1.0863],\n",
            "        [1.8310, 0.8468, 1.2847, 0.0314, 1.4835]])\n",
            "tensor([[1.0349, 1.1574, 0.8684, 0.9679, 0.5245],\n",
            "        [0.4407, 0.9771, 0.8708, 0.5253, 1.2466],\n",
            "        [0.3836, 1.4466, 1.0218, 1.1646, 1.0863],\n",
            "        [1.8310, 0.8468, 1.2847, 0.0314, 1.4835]])\n",
            "tensor([[1.0349, 1.1574, 0.8684, 0.9679, 0.5245],\n",
            "        [0.4407, 0.9771, 0.8708, 0.5253, 1.2466],\n",
            "        [0.3836, 1.4466, 1.0218, 1.1646, 1.0863],\n",
            "        [1.8310, 0.8468, 1.2847, 0.0314, 1.4835]])\n"
          ],
          "name": "stdout"
        }
      ]
    },
    {
      "cell_type": "code",
      "metadata": {
        "colab": {
          "base_uri": "https://localhost:8080/"
        },
        "id": "JnYsYHDmVpF0",
        "outputId": "02bd4bb1-9ad3-4cfb-e179-f0c431bc12c1"
      },
      "source": [
        "#Transpose a matrix\r\n",
        "x=torch.randn(5,5)\r\n",
        "print(\"The initial matrix :\\n\",x)\r\n",
        "\r\n",
        "#Meth 1\r\n",
        "print(\"Meth 1 :\\n\",x.t())\r\n",
        "\r\n",
        "print(\"Meth 2 :\\n\",x.permute(-1,0))"
      ],
      "execution_count": null,
      "outputs": [
        {
          "output_type": "stream",
          "text": [
            "The initial matrix :\n",
            " tensor([[-0.6458, -0.5212,  2.8516,  0.4548,  0.1700],\n",
            "        [-0.9856,  0.2036,  0.4673, -0.0200, -0.0453],\n",
            "        [-0.6881, -0.2457,  1.5553,  0.4280,  0.1296],\n",
            "        [ 0.9021,  0.6072,  1.5612,  0.0769, -0.4134],\n",
            "        [ 3.0418,  1.1258, -1.1002,  0.5187,  0.6400]])\n",
            "Meth 1 :\n",
            " tensor([[-0.6458, -0.9856, -0.6881,  0.9021,  3.0418],\n",
            "        [-0.5212,  0.2036, -0.2457,  0.6072,  1.1258],\n",
            "        [ 2.8516,  0.4673,  1.5553,  1.5612, -1.1002],\n",
            "        [ 0.4548, -0.0200,  0.4280,  0.0769,  0.5187],\n",
            "        [ 0.1700, -0.0453,  0.1296, -0.4134,  0.6400]])\n",
            "Meth 2 :\n",
            " tensor([[-0.6458, -0.9856, -0.6881,  0.9021,  3.0418],\n",
            "        [-0.5212,  0.2036, -0.2457,  0.6072,  1.1258],\n",
            "        [ 2.8516,  0.4673,  1.5553,  1.5612, -1.1002],\n",
            "        [ 0.4548, -0.0200,  0.4280,  0.0769,  0.5187],\n",
            "        [ 0.1700, -0.0453,  0.1296, -0.4134,  0.6400]])\n"
          ],
          "name": "stdout"
        }
      ]
    },
    {
      "cell_type": "code",
      "metadata": {
        "colab": {
          "base_uri": "https://localhost:8080/"
        },
        "id": "VGKDppENWotI",
        "outputId": "c153898f-8aa7-482b-e346-2de11434b89d"
      },
      "source": [
        "#Matrix Multiplication\r\n",
        "t1=torch.randn(5,5)\r\n",
        "t2=torch.randn(5,5)\r\n",
        "m_prod=t1.mm(t2)\r\n",
        "print(m_prod)"
      ],
      "execution_count": null,
      "outputs": [
        {
          "output_type": "stream",
          "text": [
            "tensor([[ 4.5386, -3.7414,  0.3585,  5.5628, -1.9581],\n",
            "        [ 3.7522, -2.5359, -1.3224,  3.1706, -1.4481],\n",
            "        [ 0.7749, -0.4994,  1.8141,  0.6502,  0.0960],\n",
            "        [-2.8234, -1.8252, -0.6911, -0.2864, -1.6196],\n",
            "        [ 0.6810,  2.7605,  0.4081, -2.6811, -0.2311]])\n"
          ],
          "name": "stdout"
        }
      ]
    },
    {
      "cell_type": "code",
      "metadata": {
        "colab": {
          "base_uri": "https://localhost:8080/"
        },
        "id": "J3Zp1W-1XebD",
        "outputId": "a830ca46-574f-4703-9b5e-0e80ee870456"
      },
      "source": [
        "#Convert numpy to pytorch\r\n",
        "import numpy as np\r\n",
        "np_arr=np.random.randn(5,5)\r\n",
        "print(np_arr)\r\n",
        "np_ts=torch.from_numpy(np_arr)\r\n",
        "print(np_ts)"
      ],
      "execution_count": null,
      "outputs": [
        {
          "output_type": "stream",
          "text": [
            "[[-0.22589277 -1.47432499  0.27110843 -0.96685583 -0.8737127 ]\n",
            " [ 0.76071477 -0.75383472 -0.50614829 -1.07733635 -2.08826446]\n",
            " [ 1.59845692  0.90333872 -1.56408916  1.36400553  0.01457134]\n",
            " [ 0.18635342  1.39328145  1.47839024 -1.49625161 -0.26856152]\n",
            " [ 2.24614545  1.42581802 -0.16510268  0.03701617  0.01608703]]\n",
            "tensor([[-0.2259, -1.4743,  0.2711, -0.9669, -0.8737],\n",
            "        [ 0.7607, -0.7538, -0.5061, -1.0773, -2.0883],\n",
            "        [ 1.5985,  0.9033, -1.5641,  1.3640,  0.0146],\n",
            "        [ 0.1864,  1.3933,  1.4784, -1.4963, -0.2686],\n",
            "        [ 2.2461,  1.4258, -0.1651,  0.0370,  0.0161]], dtype=torch.float64)\n"
          ],
          "name": "stdout"
        }
      ]
    },
    {
      "cell_type": "code",
      "metadata": {
        "colab": {
          "base_uri": "https://localhost:8080/"
        },
        "id": "KC6HhbgCaCXo",
        "outputId": "69974baa-0152-4045-df58-3063d54fe8eb"
      },
      "source": [
        "#Convert pytorch to numpy\r\n",
        "to_np=np_ts.numpy()\r\n",
        "print(to_np)"
      ],
      "execution_count": null,
      "outputs": [
        {
          "output_type": "stream",
          "text": [
            "[[-0.22589277 -1.47432499  0.27110843 -0.96685583 -0.8737127 ]\n",
            " [ 0.76071477 -0.75383472 -0.50614829 -1.07733635 -2.08826446]\n",
            " [ 1.59845692  0.90333872 -1.56408916  1.36400553  0.01457134]\n",
            " [ 0.18635342  1.39328145  1.47839024 -1.49625161 -0.26856152]\n",
            " [ 2.24614545  1.42581802 -0.16510268  0.03701617  0.01608703]]\n"
          ],
          "name": "stdout"
        }
      ]
    }
  ]
}