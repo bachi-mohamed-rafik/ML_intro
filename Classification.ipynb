{
  "nbformat": 4,
  "nbformat_minor": 0,
  "metadata": {
    "colab": {
      "name": "Classification.ipynb",
      "provenance": [],
      "collapsed_sections": [],
      "authorship_tag": "ABX9TyNXzoW8dMHHB2W15EMtRzBM",
      "include_colab_link": true
    },
    "kernelspec": {
      "name": "python3",
      "display_name": "Python 3"
    }
  },
  "cells": [
    {
      "cell_type": "markdown",
      "metadata": {
        "id": "view-in-github",
        "colab_type": "text"
      },
      "source": [
        "<a href=\"https://colab.research.google.com/github/bachi-mohamed-rafik/ML_intro/blob/main/Classification.ipynb\" target=\"_parent\"><img src=\"https://colab.research.google.com/assets/colab-badge.svg\" alt=\"Open In Colab\"/></a>"
      ]
    },
    {
      "cell_type": "markdown",
      "metadata": {
        "id": "n-u185a0lX25"
      },
      "source": [
        "Loading the data\r\n",
        "# import load_iris function from datasets module\r\n"
      ]
    },
    {
      "cell_type": "code",
      "metadata": {
        "colab": {
          "base_uri": "https://localhost:8080/"
        },
        "id": "KB8qc9melAEQ",
        "outputId": "d8cd21cf-80b1-4a21-e4b3-af4fdf80ce2c"
      },
      "source": [
        "from sklearn.datasets import load_iris\r\n",
        "# save \"bunch\" object containing iris dataset and its attributes\r\n",
        "iris = load_iris()\r\n",
        "print(iris.data)\r\n",
        "print(iris.target)\r\n",
        "print(iris.target_names)"
      ],
      "execution_count": null,
      "outputs": [
        {
          "output_type": "stream",
          "text": [
            "[[5.1 3.5 1.4 0.2]\n",
            " [4.9 3.  1.4 0.2]\n",
            " [4.7 3.2 1.3 0.2]\n",
            " [4.6 3.1 1.5 0.2]\n",
            " [5.  3.6 1.4 0.2]\n",
            " [5.4 3.9 1.7 0.4]\n",
            " [4.6 3.4 1.4 0.3]\n",
            " [5.  3.4 1.5 0.2]\n",
            " [4.4 2.9 1.4 0.2]\n",
            " [4.9 3.1 1.5 0.1]\n",
            " [5.4 3.7 1.5 0.2]\n",
            " [4.8 3.4 1.6 0.2]\n",
            " [4.8 3.  1.4 0.1]\n",
            " [4.3 3.  1.1 0.1]\n",
            " [5.8 4.  1.2 0.2]\n",
            " [5.7 4.4 1.5 0.4]\n",
            " [5.4 3.9 1.3 0.4]\n",
            " [5.1 3.5 1.4 0.3]\n",
            " [5.7 3.8 1.7 0.3]\n",
            " [5.1 3.8 1.5 0.3]\n",
            " [5.4 3.4 1.7 0.2]\n",
            " [5.1 3.7 1.5 0.4]\n",
            " [4.6 3.6 1.  0.2]\n",
            " [5.1 3.3 1.7 0.5]\n",
            " [4.8 3.4 1.9 0.2]\n",
            " [5.  3.  1.6 0.2]\n",
            " [5.  3.4 1.6 0.4]\n",
            " [5.2 3.5 1.5 0.2]\n",
            " [5.2 3.4 1.4 0.2]\n",
            " [4.7 3.2 1.6 0.2]\n",
            " [4.8 3.1 1.6 0.2]\n",
            " [5.4 3.4 1.5 0.4]\n",
            " [5.2 4.1 1.5 0.1]\n",
            " [5.5 4.2 1.4 0.2]\n",
            " [4.9 3.1 1.5 0.2]\n",
            " [5.  3.2 1.2 0.2]\n",
            " [5.5 3.5 1.3 0.2]\n",
            " [4.9 3.6 1.4 0.1]\n",
            " [4.4 3.  1.3 0.2]\n",
            " [5.1 3.4 1.5 0.2]\n",
            " [5.  3.5 1.3 0.3]\n",
            " [4.5 2.3 1.3 0.3]\n",
            " [4.4 3.2 1.3 0.2]\n",
            " [5.  3.5 1.6 0.6]\n",
            " [5.1 3.8 1.9 0.4]\n",
            " [4.8 3.  1.4 0.3]\n",
            " [5.1 3.8 1.6 0.2]\n",
            " [4.6 3.2 1.4 0.2]\n",
            " [5.3 3.7 1.5 0.2]\n",
            " [5.  3.3 1.4 0.2]\n",
            " [7.  3.2 4.7 1.4]\n",
            " [6.4 3.2 4.5 1.5]\n",
            " [6.9 3.1 4.9 1.5]\n",
            " [5.5 2.3 4.  1.3]\n",
            " [6.5 2.8 4.6 1.5]\n",
            " [5.7 2.8 4.5 1.3]\n",
            " [6.3 3.3 4.7 1.6]\n",
            " [4.9 2.4 3.3 1. ]\n",
            " [6.6 2.9 4.6 1.3]\n",
            " [5.2 2.7 3.9 1.4]\n",
            " [5.  2.  3.5 1. ]\n",
            " [5.9 3.  4.2 1.5]\n",
            " [6.  2.2 4.  1. ]\n",
            " [6.1 2.9 4.7 1.4]\n",
            " [5.6 2.9 3.6 1.3]\n",
            " [6.7 3.1 4.4 1.4]\n",
            " [5.6 3.  4.5 1.5]\n",
            " [5.8 2.7 4.1 1. ]\n",
            " [6.2 2.2 4.5 1.5]\n",
            " [5.6 2.5 3.9 1.1]\n",
            " [5.9 3.2 4.8 1.8]\n",
            " [6.1 2.8 4.  1.3]\n",
            " [6.3 2.5 4.9 1.5]\n",
            " [6.1 2.8 4.7 1.2]\n",
            " [6.4 2.9 4.3 1.3]\n",
            " [6.6 3.  4.4 1.4]\n",
            " [6.8 2.8 4.8 1.4]\n",
            " [6.7 3.  5.  1.7]\n",
            " [6.  2.9 4.5 1.5]\n",
            " [5.7 2.6 3.5 1. ]\n",
            " [5.5 2.4 3.8 1.1]\n",
            " [5.5 2.4 3.7 1. ]\n",
            " [5.8 2.7 3.9 1.2]\n",
            " [6.  2.7 5.1 1.6]\n",
            " [5.4 3.  4.5 1.5]\n",
            " [6.  3.4 4.5 1.6]\n",
            " [6.7 3.1 4.7 1.5]\n",
            " [6.3 2.3 4.4 1.3]\n",
            " [5.6 3.  4.1 1.3]\n",
            " [5.5 2.5 4.  1.3]\n",
            " [5.5 2.6 4.4 1.2]\n",
            " [6.1 3.  4.6 1.4]\n",
            " [5.8 2.6 4.  1.2]\n",
            " [5.  2.3 3.3 1. ]\n",
            " [5.6 2.7 4.2 1.3]\n",
            " [5.7 3.  4.2 1.2]\n",
            " [5.7 2.9 4.2 1.3]\n",
            " [6.2 2.9 4.3 1.3]\n",
            " [5.1 2.5 3.  1.1]\n",
            " [5.7 2.8 4.1 1.3]\n",
            " [6.3 3.3 6.  2.5]\n",
            " [5.8 2.7 5.1 1.9]\n",
            " [7.1 3.  5.9 2.1]\n",
            " [6.3 2.9 5.6 1.8]\n",
            " [6.5 3.  5.8 2.2]\n",
            " [7.6 3.  6.6 2.1]\n",
            " [4.9 2.5 4.5 1.7]\n",
            " [7.3 2.9 6.3 1.8]\n",
            " [6.7 2.5 5.8 1.8]\n",
            " [7.2 3.6 6.1 2.5]\n",
            " [6.5 3.2 5.1 2. ]\n",
            " [6.4 2.7 5.3 1.9]\n",
            " [6.8 3.  5.5 2.1]\n",
            " [5.7 2.5 5.  2. ]\n",
            " [5.8 2.8 5.1 2.4]\n",
            " [6.4 3.2 5.3 2.3]\n",
            " [6.5 3.  5.5 1.8]\n",
            " [7.7 3.8 6.7 2.2]\n",
            " [7.7 2.6 6.9 2.3]\n",
            " [6.  2.2 5.  1.5]\n",
            " [6.9 3.2 5.7 2.3]\n",
            " [5.6 2.8 4.9 2. ]\n",
            " [7.7 2.8 6.7 2. ]\n",
            " [6.3 2.7 4.9 1.8]\n",
            " [6.7 3.3 5.7 2.1]\n",
            " [7.2 3.2 6.  1.8]\n",
            " [6.2 2.8 4.8 1.8]\n",
            " [6.1 3.  4.9 1.8]\n",
            " [6.4 2.8 5.6 2.1]\n",
            " [7.2 3.  5.8 1.6]\n",
            " [7.4 2.8 6.1 1.9]\n",
            " [7.9 3.8 6.4 2. ]\n",
            " [6.4 2.8 5.6 2.2]\n",
            " [6.3 2.8 5.1 1.5]\n",
            " [6.1 2.6 5.6 1.4]\n",
            " [7.7 3.  6.1 2.3]\n",
            " [6.3 3.4 5.6 2.4]\n",
            " [6.4 3.1 5.5 1.8]\n",
            " [6.  3.  4.8 1.8]\n",
            " [6.9 3.1 5.4 2.1]\n",
            " [6.7 3.1 5.6 2.4]\n",
            " [6.9 3.1 5.1 2.3]\n",
            " [5.8 2.7 5.1 1.9]\n",
            " [6.8 3.2 5.9 2.3]\n",
            " [6.7 3.3 5.7 2.5]\n",
            " [6.7 3.  5.2 2.3]\n",
            " [6.3 2.5 5.  1.9]\n",
            " [6.5 3.  5.2 2. ]\n",
            " [6.2 3.4 5.4 2.3]\n",
            " [5.9 3.  5.1 1.8]]\n",
            "[0 0 0 0 0 0 0 0 0 0 0 0 0 0 0 0 0 0 0 0 0 0 0 0 0 0 0 0 0 0 0 0 0 0 0 0 0\n",
            " 0 0 0 0 0 0 0 0 0 0 0 0 0 1 1 1 1 1 1 1 1 1 1 1 1 1 1 1 1 1 1 1 1 1 1 1 1\n",
            " 1 1 1 1 1 1 1 1 1 1 1 1 1 1 1 1 1 1 1 1 1 1 1 1 1 1 2 2 2 2 2 2 2 2 2 2 2\n",
            " 2 2 2 2 2 2 2 2 2 2 2 2 2 2 2 2 2 2 2 2 2 2 2 2 2 2 2 2 2 2 2 2 2 2 2 2 2\n",
            " 2 2]\n",
            "['setosa' 'versicolor' 'virginica']\n"
          ],
          "name": "stdout"
        }
      ]
    },
    {
      "cell_type": "markdown",
      "metadata": {
        "id": "CLbFKtZVoDYB"
      },
      "source": [
        "# store feature matrix in \"X\"\r\n",
        "\r\n",
        "# store response vector in \"y\"\r\n",
        "\r\n",
        "# print the shapes of X and y\r\n"
      ]
    },
    {
      "cell_type": "code",
      "metadata": {
        "colab": {
          "base_uri": "https://localhost:8080/"
        },
        "id": "26zOX2RaoHmf",
        "outputId": "87f1ede2-0d09-42eb-ab11-42d2ee79f9e2"
      },
      "source": [
        "# store feature matrix in \"X\"\r\n",
        "X=iris.data\r\n",
        "# store response vector in \"y\"\r\n",
        "y=iris.target\r\n",
        "# print the shapes of X and y\r\n",
        "print(X.shape)\r\n",
        "print(y.shape)"
      ],
      "execution_count": null,
      "outputs": [
        {
          "output_type": "stream",
          "text": [
            "(150, 4)\n",
            "(150,)\n"
          ],
          "name": "stdout"
        }
      ]
    },
    {
      "cell_type": "markdown",
      "metadata": {
        "id": "I3J8VQpMo7ld"
      },
      "source": [
        "#scikit-learn 4-step modeling pattern"
      ]
    },
    {
      "cell_type": "code",
      "metadata": {
        "colab": {
          "base_uri": "https://localhost:8080/"
        },
        "id": "oZ54K0tUpSdS",
        "outputId": "3ad351b7-9e0c-43cc-e66f-e43bf1bc5cdc"
      },
      "source": [
        "#Step 1: Import the class you plan to use\r\n",
        "from sklearn.neighbors import KNeighborsClassifier\r\n",
        "\r\n",
        "#Step 2: \"Instantiate\" the \"estimator\"\r\n",
        "knn=KNeighborsClassifier(n_neighbors=9)\r\n",
        "# Fit the model \r\n",
        "knn.fit(X,y)\r\n",
        "#Step 4: Predict the response for a new observation\r\n",
        "print(knn.predict([[2.1,2,1,1.6]]))\r\n",
        "new_obs=[[2.6,3.5,2,4],[1.2,2,2.3,4],[2.2,1.5,5,7]]\r\n",
        "print(knn.predict(new_obs))"
      ],
      "execution_count": null,
      "outputs": [
        {
          "output_type": "stream",
          "text": [
            "[0]\n",
            "[0 1 2]\n"
          ],
          "name": "stdout"
        }
      ]
    },
    {
      "cell_type": "markdown",
      "metadata": {
        "id": "dJq7I8lcQJqk"
      },
      "source": [
        "Logistic regression:"
      ]
    },
    {
      "cell_type": "code",
      "metadata": {
        "colab": {
          "base_uri": "https://localhost:8080/"
        },
        "id": "w2sBJ9UqQTx-",
        "outputId": "258da008-f3da-4d7d-fd5d-6ca1ddde514c"
      },
      "source": [
        "# import the class\r\n",
        "from sklearn.linear_model import LogisticRegression \r\n",
        "X=iris.data\r\n",
        "y=iris.target\r\n",
        "\r\n",
        "logreg=LogisticRegression()\r\n",
        "logreg.fit(X,y)\r\n",
        "\r\n",
        "y_pred=logreg.predict(X)\r\n",
        "print(\"y_pred:\\n\",y_pred)"
      ],
      "execution_count": null,
      "outputs": [
        {
          "output_type": "stream",
          "text": [
            "y_pred:\n",
            " [0 0 0 0 0 0 0 0 0 0 0 0 0 0 0 0 0 0 0 0 0 0 0 0 0 0 0 0 0 0 0 0 0 0 0 0 0\n",
            " 0 0 0 0 0 0 0 0 0 0 0 0 0 1 1 1 1 1 1 1 1 1 1 1 1 1 1 1 1 1 1 1 1 2 1 1 1\n",
            " 1 1 1 2 1 1 1 1 1 2 1 1 1 1 1 1 1 1 1 1 1 1 1 1 1 1 2 2 2 2 2 2 1 2 2 2 2\n",
            " 2 2 2 2 2 2 2 2 2 2 2 2 2 2 2 2 2 2 2 2 2 2 2 2 2 2 2 2 2 2 2 2 2 2 2 2 2\n",
            " 2 2]\n"
          ],
          "name": "stdout"
        },
        {
          "output_type": "stream",
          "text": [
            "/usr/local/lib/python3.6/dist-packages/sklearn/linear_model/_logistic.py:940: ConvergenceWarning: lbfgs failed to converge (status=1):\n",
            "STOP: TOTAL NO. of ITERATIONS REACHED LIMIT.\n",
            "\n",
            "Increase the number of iterations (max_iter) or scale the data as shown in:\n",
            "    https://scikit-learn.org/stable/modules/preprocessing.html\n",
            "Please also refer to the documentation for alternative solver options:\n",
            "    https://scikit-learn.org/stable/modules/linear_model.html#logistic-regression\n",
            "  extra_warning_msg=_LOGISTIC_SOLVER_CONVERGENCE_MSG)\n"
          ],
          "name": "stderr"
        }
      ]
    },
    {
      "cell_type": "markdown",
      "metadata": {
        "id": "BrVE4AEZVHHV"
      },
      "source": [
        "# compute classification accuracy for the logistic regression model"
      ]
    },
    {
      "cell_type": "code",
      "metadata": {
        "colab": {
          "base_uri": "https://localhost:8080/"
        },
        "id": "LJMQSacgVMMb",
        "outputId": "14bdbeeb-b908-40fa-92ec-344f378e16db"
      },
      "source": [
        "from sklearn import metrics\r\n",
        "print(metrics.accuracy_score(y,y_pred))"
      ],
      "execution_count": null,
      "outputs": [
        {
          "output_type": "stream",
          "text": [
            "0.9733333333333334\n"
          ],
          "name": "stdout"
        }
      ]
    },
    {
      "cell_type": "markdown",
      "metadata": {
        "id": "13Jqg2UhYPdi"
      },
      "source": [
        "Evaluation procedure #2: Train/test split\r\n"
      ]
    },
    {
      "cell_type": "code",
      "metadata": {
        "colab": {
          "base_uri": "https://localhost:8080/"
        },
        "id": "acFSdp_EYRNJ",
        "outputId": "b4489a43-358d-4ba2-bcc8-0176b2e39d82"
      },
      "source": [
        "# print the shapes of X and y\r\n",
        "print(X.shape)\r\n",
        "print(y.shape)"
      ],
      "execution_count": null,
      "outputs": [
        {
          "output_type": "stream",
          "text": [
            "(150, 4)\n",
            "(150,)\n"
          ],
          "name": "stdout"
        }
      ]
    },
    {
      "cell_type": "code",
      "metadata": {
        "colab": {
          "base_uri": "https://localhost:8080/"
        },
        "id": "yupSQd89Zc9M",
        "outputId": "61850a03-fbae-44a7-e3a5-c6768a0b3372"
      },
      "source": [
        "# STEP 1: split X and y into training and testing sets\r\n",
        "from sklearn.model_selection import train_test_split\r\n",
        "x_train,x_test,y_train,y_test=train_test_split(X,y, test_size=0.4)\r\n",
        "# print the shapes of the new X objects\r\n",
        "print(\"x_train:\\n\",x_train)\r\n",
        "print(\"x_test:\\n\",x_test)\r\n",
        "# print the shapes of the new y objects\r\n",
        "print(\"y_train:\\n\",y_train)\r\n",
        "print(\"y_test:\\n\",y_test)"
      ],
      "execution_count": null,
      "outputs": [
        {
          "output_type": "stream",
          "text": [
            "x_train:\n",
            " [[6.1 2.6 5.6 1.4]\n",
            " [4.4 3.2 1.3 0.2]\n",
            " [6.9 3.1 5.4 2.1]\n",
            " [5.8 2.8 5.1 2.4]\n",
            " [6.1 2.8 4.  1.3]\n",
            " [5.9 3.  4.2 1.5]\n",
            " [5.  3.6 1.4 0.2]\n",
            " [6.3 2.3 4.4 1.3]\n",
            " [4.4 3.  1.3 0.2]\n",
            " [6.4 2.8 5.6 2.1]\n",
            " [5.6 3.  4.5 1.5]\n",
            " [4.8 3.1 1.6 0.2]\n",
            " [5.2 3.5 1.5 0.2]\n",
            " [5.1 3.5 1.4 0.3]\n",
            " [5.9 3.2 4.8 1.8]\n",
            " [4.4 2.9 1.4 0.2]\n",
            " [6.4 2.8 5.6 2.2]\n",
            " [6.8 2.8 4.8 1.4]\n",
            " [6.7 3.1 4.4 1.4]\n",
            " [5.7 2.6 3.5 1. ]\n",
            " [5.  3.  1.6 0.2]\n",
            " [6.  3.4 4.5 1.6]\n",
            " [6.  3.  4.8 1.8]\n",
            " [4.9 3.  1.4 0.2]\n",
            " [7.2 3.2 6.  1.8]\n",
            " [7.  3.2 4.7 1.4]\n",
            " [5.3 3.7 1.5 0.2]\n",
            " [6.3 2.7 4.9 1.8]\n",
            " [6.5 3.2 5.1 2. ]\n",
            " [5.1 3.7 1.5 0.4]\n",
            " [4.9 2.4 3.3 1. ]\n",
            " [6.2 2.2 4.5 1.5]\n",
            " [4.3 3.  1.1 0.1]\n",
            " [6.3 2.5 4.9 1.5]\n",
            " [5.1 3.8 1.9 0.4]\n",
            " [6.7 3.1 4.7 1.5]\n",
            " [5.5 2.6 4.4 1.2]\n",
            " [6.5 3.  5.5 1.8]\n",
            " [5.1 3.3 1.7 0.5]\n",
            " [6.  2.9 4.5 1.5]\n",
            " [5.8 2.7 5.1 1.9]\n",
            " [6.7 3.3 5.7 2.1]\n",
            " [6.2 2.8 4.8 1.8]\n",
            " [5.  3.5 1.3 0.3]\n",
            " [5.5 4.2 1.4 0.2]\n",
            " [7.6 3.  6.6 2.1]\n",
            " [6.  2.2 4.  1. ]\n",
            " [5.  2.  3.5 1. ]\n",
            " [5.4 3.9 1.3 0.4]\n",
            " [6.8 3.2 5.9 2.3]\n",
            " [7.4 2.8 6.1 1.9]\n",
            " [5.8 2.6 4.  1.2]\n",
            " [6.6 3.  4.4 1.4]\n",
            " [5.6 3.  4.1 1.3]\n",
            " [5.7 3.  4.2 1.2]\n",
            " [5.6 2.5 3.9 1.1]\n",
            " [4.6 3.4 1.4 0.3]\n",
            " [4.6 3.6 1.  0.2]\n",
            " [5.7 2.5 5.  2. ]\n",
            " [4.8 3.  1.4 0.3]\n",
            " [6.3 2.9 5.6 1.8]\n",
            " [6.3 2.5 5.  1.9]\n",
            " [7.2 3.6 6.1 2.5]\n",
            " [6.7 3.  5.  1.7]\n",
            " [5.5 2.4 3.7 1. ]\n",
            " [6.6 2.9 4.6 1.3]\n",
            " [6.9 3.1 4.9 1.5]\n",
            " [5.  2.3 3.3 1. ]\n",
            " [5.  3.4 1.5 0.2]\n",
            " [6.1 3.  4.6 1.4]\n",
            " [5.6 2.8 4.9 2. ]\n",
            " [6.7 2.5 5.8 1.8]\n",
            " [6.7 3.3 5.7 2.5]\n",
            " [6.9 3.2 5.7 2.3]\n",
            " [4.7 3.2 1.3 0.2]\n",
            " [5.4 3.4 1.5 0.4]\n",
            " [5.1 3.4 1.5 0.2]\n",
            " [5.4 3.  4.5 1.5]\n",
            " [5.4 3.7 1.5 0.2]\n",
            " [5.6 2.9 3.6 1.3]\n",
            " [6.5 2.8 4.6 1.5]\n",
            " [5.1 2.5 3.  1.1]\n",
            " [4.9 3.6 1.4 0.1]\n",
            " [5.8 2.7 3.9 1.2]\n",
            " [5.2 3.4 1.4 0.2]\n",
            " [5.5 2.3 4.  1.3]\n",
            " [5.  3.5 1.6 0.6]\n",
            " [4.8 3.4 1.6 0.2]\n",
            " [5.7 4.4 1.5 0.4]\n",
            " [4.8 3.4 1.9 0.2]]\n",
            "x_test:\n",
            " [[6.3 2.8 5.1 1.5]\n",
            " [5.7 2.8 4.5 1.3]\n",
            " [5.7 3.8 1.7 0.3]\n",
            " [5.4 3.4 1.7 0.2]\n",
            " [5.1 3.5 1.4 0.2]\n",
            " [4.9 3.1 1.5 0.2]\n",
            " [5.7 2.9 4.2 1.3]\n",
            " [6.1 3.  4.9 1.8]\n",
            " [6.4 2.9 4.3 1.3]\n",
            " [6.1 2.8 4.7 1.2]\n",
            " [4.6 3.1 1.5 0.2]\n",
            " [5.8 4.  1.2 0.2]\n",
            " [4.9 2.5 4.5 1.7]\n",
            " [6.8 3.  5.5 2.1]\n",
            " [6.4 3.2 5.3 2.3]\n",
            " [6.  2.2 5.  1.5]\n",
            " [7.7 3.  6.1 2.3]\n",
            " [5.2 4.1 1.5 0.1]\n",
            " [6.1 2.9 4.7 1.4]\n",
            " [7.7 3.8 6.7 2.2]\n",
            " [6.2 2.9 4.3 1.3]\n",
            " [6.  2.7 5.1 1.6]\n",
            " [5.5 2.5 4.  1.3]\n",
            " [4.9 3.1 1.5 0.1]\n",
            " [6.3 3.3 6.  2.5]\n",
            " [5.5 3.5 1.3 0.2]\n",
            " [6.3 3.4 5.6 2.4]\n",
            " [6.4 3.1 5.5 1.8]\n",
            " [7.7 2.8 6.7 2. ]\n",
            " [5.  3.3 1.4 0.2]\n",
            " [4.5 2.3 1.3 0.3]\n",
            " [7.9 3.8 6.4 2. ]\n",
            " [4.8 3.  1.4 0.1]\n",
            " [5.4 3.9 1.7 0.4]\n",
            " [5.2 2.7 3.9 1.4]\n",
            " [6.2 3.4 5.4 2.3]\n",
            " [7.7 2.6 6.9 2.3]\n",
            " [6.4 3.2 4.5 1.5]\n",
            " [7.3 2.9 6.3 1.8]\n",
            " [5.5 2.4 3.8 1.1]\n",
            " [5.1 3.8 1.5 0.3]\n",
            " [6.5 3.  5.8 2.2]\n",
            " [5.1 3.8 1.6 0.2]\n",
            " [7.2 3.  5.8 1.6]\n",
            " [6.7 3.  5.2 2.3]\n",
            " [6.5 3.  5.2 2. ]\n",
            " [5.  3.2 1.2 0.2]\n",
            " [4.7 3.2 1.6 0.2]\n",
            " [6.9 3.1 5.1 2.3]\n",
            " [5.9 3.  5.1 1.8]\n",
            " [5.  3.4 1.6 0.4]\n",
            " [5.8 2.7 4.1 1. ]\n",
            " [5.6 2.7 4.2 1.3]\n",
            " [7.1 3.  5.9 2.1]\n",
            " [5.8 2.7 5.1 1.9]\n",
            " [6.7 3.1 5.6 2.4]\n",
            " [5.7 2.8 4.1 1.3]\n",
            " [6.3 3.3 4.7 1.6]\n",
            " [6.4 2.7 5.3 1.9]\n",
            " [4.6 3.2 1.4 0.2]]\n",
            "y_train:\n",
            " [2 0 2 2 1 1 0 1 0 2 1 0 0 0 1 0 2 1 1 1 0 1 2 0 2 1 0 2 2 0 1 1 0 1 0 1 1\n",
            " 2 0 1 2 2 2 0 0 2 1 1 0 2 2 1 1 1 1 1 0 0 2 0 2 2 2 1 1 1 1 1 0 1 2 2 2 2\n",
            " 0 0 0 1 0 1 1 1 0 1 0 1 0 0 0 0]\n",
            "y_test:\n",
            " [2 1 0 0 0 0 1 2 1 1 0 0 2 2 2 2 2 0 1 2 1 1 1 0 2 0 2 2 2 0 0 2 0 0 1 2 2\n",
            " 1 2 1 0 2 0 2 2 2 0 0 2 2 0 1 1 2 2 2 1 1 2 0]\n"
          ],
          "name": "stdout"
        }
      ]
    },
    {
      "cell_type": "code",
      "metadata": {
        "colab": {
          "base_uri": "https://localhost:8080/"
        },
        "id": "axK64W7BbINP",
        "outputId": "0fe6711b-7d9e-4b01-82db-5da8e89f8743"
      },
      "source": [
        "# STEP 2: train the model on the training set\r\n",
        "logreg=LogisticRegression()\r\n",
        "logreg.fit(x_train,y_train)"
      ],
      "execution_count": null,
      "outputs": [
        {
          "output_type": "execute_result",
          "data": {
            "text/plain": [
              "LogisticRegression(C=1.0, class_weight=None, dual=False, fit_intercept=True,\n",
              "                   intercept_scaling=1, l1_ratio=None, max_iter=100,\n",
              "                   multi_class='auto', n_jobs=None, penalty='l2',\n",
              "                   random_state=None, solver='lbfgs', tol=0.0001, verbose=0,\n",
              "                   warm_start=False)"
            ]
          },
          "metadata": {
            "tags": []
          },
          "execution_count": 25
        }
      ]
    },
    {
      "cell_type": "code",
      "metadata": {
        "colab": {
          "base_uri": "https://localhost:8080/"
        },
        "id": "A8C8QaZwc4gQ",
        "outputId": "929bc94e-7924-4d02-bead-d1bc6b5cd1a9"
      },
      "source": [
        "# STEP 3: make predictions on the testing set\r\n",
        "\r\n",
        "y_pred=logreg.predict(x_test)\r\n",
        "metrics.accuracy_score(y_test,y_pred)"
      ],
      "execution_count": null,
      "outputs": [
        {
          "output_type": "execute_result",
          "data": {
            "text/plain": [
              "0.9333333333333333"
            ]
          },
          "metadata": {
            "tags": []
          },
          "execution_count": 27
        }
      ]
    },
    {
      "cell_type": "code",
      "metadata": {
        "colab": {
          "base_uri": "https://localhost:8080/"
        },
        "id": "07Acg0UGl8gB",
        "outputId": "ba68a94a-0e3a-457e-a7e2-529142916d2b"
      },
      "source": [
        "knn=1\r\n",
        "knn = KNeighborsClassifier(n_neighbors=1)\r\n",
        "knn.fit(x_train, y_train)\r\n",
        "y_pred = knn.predict(x_test)\r\n",
        "print(metrics.accuracy_score(y_test, y_pred))"
      ],
      "execution_count": null,
      "outputs": [
        {
          "output_type": "stream",
          "text": [
            "0.9333333333333333\n"
          ],
          "name": "stdout"
        }
      ]
    },
    {
      "cell_type": "code",
      "metadata": {
        "colab": {
          "base_uri": "https://localhost:8080/"
        },
        "id": "f4lUDeshlo9F",
        "outputId": "2c9b6f13-2331-43d9-e0d2-d94476107988"
      },
      "source": [
        "#knn=5\r\n",
        "knn = KNeighborsClassifier(n_neighbors=5)\r\n",
        "knn.fit(x_train, y_train)\r\n",
        "y_pred = knn.predict(x_test)\r\n",
        "print(metrics.accuracy_score(y_test, y_pred))\r\n"
      ],
      "execution_count": null,
      "outputs": [
        {
          "output_type": "stream",
          "text": [
            "0.9666666666666667\n"
          ],
          "name": "stdout"
        }
      ]
    },
    {
      "cell_type": "markdown",
      "metadata": {
        "id": "_CRDlFGUmNvB"
      },
      "source": [
        "#Best choice algorithm"
      ]
    },
    {
      "cell_type": "code",
      "metadata": {
        "colab": {
          "base_uri": "https://localhost:8080/",
          "height": 296
        },
        "id": "Gh-Oc1IUmRwn",
        "outputId": "d01c1b52-77d1-4d16-e3ad-ce11ac7d414e"
      },
      "source": [
        "# try K=1 through K=25 and record testing accuracy\r\n",
        "k_range = list(range(1, 26))\r\n",
        "scores = []\r\n",
        "for k in k_range:\r\n",
        "    knn = KNeighborsClassifier(n_neighbors=k)\r\n",
        "    knn.fit(x_train, y_train)\r\n",
        "    y_pred = knn.predict(x_test)\r\n",
        "    scores.append(metrics.accuracy_score(y_test, y_pred))\r\n",
        "\r\n",
        "# import Matplotlib (scientific plotting library)\r\n",
        "import matplotlib.pyplot as plt\r\n",
        "\r\n",
        "# allow plots to appear within the notebook\r\n",
        "%matplotlib inline\r\n",
        "\r\n",
        "# plot the relationship between K and testing accuracy\r\n",
        "plt.plot(k_range, scores)\r\n",
        "plt.xlabel('Value of K for KNN')\r\n",
        "plt.ylabel('Testing Accuracy')"
      ],
      "execution_count": null,
      "outputs": [
        {
          "output_type": "execute_result",
          "data": {
            "text/plain": [
              "Text(0, 0.5, 'Testing Accuracy')"
            ]
          },
          "metadata": {
            "tags": []
          },
          "execution_count": 33
        },
        {
          "output_type": "display_data",
          "data": {
            "image/png": "[encoded data removed]",
            "text/plain": [
              "<Figure size 432x288 with 1 Axes>"
            ]
          },
          "metadata": {
            "tags": [],
            "needs_background": "light"
          }
        }
      ]
    }
  ]
}